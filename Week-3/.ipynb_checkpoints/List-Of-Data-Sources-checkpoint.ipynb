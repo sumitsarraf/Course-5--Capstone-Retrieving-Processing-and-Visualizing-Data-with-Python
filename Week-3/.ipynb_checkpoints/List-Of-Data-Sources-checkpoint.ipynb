{
 "cells": [
  {
   "cell_type": "markdown",
   "metadata": {},
   "source": [
    "This is a set of data sources curated by the instructional staff. Feel free to suggest new data sources in the forums. The initial list was provided by Kevyn Collins-Thomson from the University of Michigan School of Information.\n",
    "\n",
    "Long general-purpose list of datasets:\n",
    "\n",
    "    https://vincentarelbundock.github.io/Rdatasets/datasets.html\n",
    "\n",
    "This website has dozens of public datasets - some fun, some a bit, well.. quirky. external link:\n",
    "\n",
    "    http://rs.io/2014/05/29/list-of-data-sets.html\n",
    "\n",
    "The Academic Torrents site has a growing number of datasets, including a few text collections that might be of interest (Wikipedia, email, twitter, academic, etc.) for current or future projects.\n",
    "\n",
    "    http://academictorrents.com/browse.php?cat=6\n",
    "\n",
    "Google Books n-gram corpus\n",
    "\n",
    "    external link: http://books.google.com/ngrams\n",
    "    Dataset: external link: http://aws.amazon.com/datasets/8172056142375670\n",
    "\n",
    "Common Crawl: • Currently 6 billion Web documents (81 Tb) • Amazon S3 Public Data Set\n",
    "\n",
    "    http://aws.amazon.com/datasets/41740\n",
    "    https://commoncrawl.atlassian.net/wiki/display/CRWL/About+the+Data+Set\n",
    "    Award project using Common Crawl: http://norvigaward.github.io/entries.html\n",
    "    Python example: http://www.freelancer.com/projects/Python-Data-Processing/Python-script-for-CommonCrawl.html\n",
    "\n",
    "Business/commercial data Yelp external link:\n",
    "\n",
    "    http://www.yelp.com/developers/documentation/v2/search_api\n",
    "    Upcoming Deprecation of Yelp API v2 on June 30, 2018 (Posted by Yelp Jun 28, 2017)\n",
    "\n",
    "Internet Archive (huge, ever-growing archive of the Web going back to 1990s) external link:\n",
    "\n",
    "    http://archive.org/help/json.php\n",
    "\n",
    "WikiData:\n",
    "\n",
    "    https://www.wikidata.org/wiki/Wikidata:Main_Page\n",
    "\n",
    "World Food Facts\n",
    "\n",
    "    http://world.openfoodfacts.org/data\n",
    "\n",
    "Data USA - a variety of census data\n",
    "\n",
    "    https://datausa.io/\n",
    "\n",
    "U.S. Government open data - datasets from 75 agencies and subagencies\n",
    "\n",
    "    https://data.gov/\n",
    "\n",
    "NASA data portal - space and earth science\n",
    "\n",
    "    https://data.nasa.gov/\n",
    "    "
   ]
  }
 ],
 "metadata": {
  "kernelspec": {
   "display_name": "Python 3",
   "language": "python",
   "name": "python3"
  },
  "language_info": {
   "codemirror_mode": {
    "name": "ipython",
    "version": 3
   },
   "file_extension": ".py",
   "mimetype": "text/x-python",
   "name": "python",
   "nbconvert_exporter": "python",
   "pygments_lexer": "ipython3",
   "version": "3.6.4"
  }
 },
 "nbformat": 4,
 "nbformat_minor": 2
}
